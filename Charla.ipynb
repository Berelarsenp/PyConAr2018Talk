{
 "cells": [
  {
   "cell_type": "markdown",
   "metadata": {
    "slideshow": {
     "slide_type": "slide"
    }
   },
   "source": [
    "# _ _ init _ _ Jupyter Notebook"
   ]
  },
  {
   "cell_type": "markdown",
   "metadata": {
    "slideshow": {
     "slide_type": "slide"
    }
   },
   "source": [
    "## Berenice Larsen Pereyra (AKA berito)\n",
    "\n",
    "- Soy platense pero nunca me aprendí las diagonales\n",
    "- En 2015 me recibí de Diseñadora textil\n",
    "- En 2017 cambié de rumbo y empecé la carrera de Analista Programador en la Universidad Nacional de La Plata\n",
    "- Fui co-organizadora de LinuxChixLP\n",
    "- Aprendí mucho de data science con la gente de RMOTR.com (ahí conocí Jupyter Notebooks)\n",
    "- Fui al PyCamp 2018 y me asocié a PyAr\n",
    "- Trabajo en Satellogic y aprendo cómo es esto de hacer satélites\n",
    "\n",
    "\n",
    "### @berelarsenp en [github](https://github.com/Berelarsenp), [Medium](https://medium.com/@berelarsenp) y [twitter](https://twitter.com/berelarsenp)"
   ]
  },
  {
   "cell_type": "markdown",
   "metadata": {
    "slideshow": {
     "slide_type": "slide"
    }
   },
   "source": [
    "## ¿Qué es Jupyter Notebook?"
   ]
  },
  {
   "cell_type": "markdown",
   "metadata": {
    "slideshow": {
     "slide_type": "subslide"
    }
   },
   "source": [
    "Es una aplicación open-source interactiva y basada en la web en la que se puede escribir código en distintos lenguajes de programación, documentarlo con texto enriquecido, ejecutarlo, ver sus resultados y compartirlo a través de dos elementos:"
   ]
  },
  {
   "cell_type": "markdown",
   "metadata": {
    "slideshow": {
     "slide_type": "subslide"
    }
   },
   "source": [
    "La **aplicación web**, una herramienta de tipo cliente-servidor basada en el buscador que:"
   ]
  },
  {
   "cell_type": "markdown",
   "metadata": {
    "slideshow": {
     "slide_type": "fragment"
    }
   },
   "source": [
    "- utiliza un **kernel** para soportar lenguajes de programación (inspeccionar y retornar resultados). El kernel por defecto es IPython, pero hay otros de acuerdo al lenguaje;\n",
    "- tiene un panel principal o **dashboard** que muestra los archivos locales y permite abrirlos y/o apagar sus kernels"
   ]
  },
  {
   "cell_type": "markdown",
   "metadata": {
    "slideshow": {
     "slide_type": "subslide"
    }
   },
   "source": [
    "Los **notebooks**, una representación de todo el contenido visible en la aplicación web que:"
   ]
  },
  {
   "cell_type": "markdown",
   "metadata": {
    "slideshow": {
     "slide_type": "fragment"
    }
   },
   "source": [
    "- se guardan con la extensión **.ipynb** y por detrás son archivos JSON, lo que permite compartirlos y usar un controlador de versiones para trabajar sobre ellos;\n",
    "- contienen celdas de tipo `in` en las que se escribe y `out` que muestran el resultado;\n",
    "- pueden exportarse a una gran variedad de formatos: .html, .rest, .tex, .pdf, .py, .txt, entre otros"
   ]
  },
  {
   "cell_type": "markdown",
   "metadata": {
    "slideshow": {
     "slide_type": "slide"
    }
   },
   "source": [
    "# ¿Para qué puedo usarlo?"
   ]
  },
  {
   "cell_type": "markdown",
   "metadata": {
    "slideshow": {
     "slide_type": "subslide"
    }
   },
   "source": [
    "- Probar código y armar borradores\n",
    "- Enseñanza / aprendizaje\n",
    "- Preparar presentaciones\n",
    "- Armar proyectos"
   ]
  },
  {
   "cell_type": "markdown",
   "metadata": {
    "slideshow": {
     "slide_type": "slide"
    }
   },
   "source": [
    "## ¿Cómo me instalo Jupyter Notebook?"
   ]
  },
  {
   "cell_type": "markdown",
   "metadata": {
    "slideshow": {
     "slide_type": "subslide"
    }
   },
   "source": [
    "A través de [Anaconda](https://www.anaconda.com). Esta opción instala Python y Jupyter Notebook\n",
    "\n"
   ]
  },
  {
   "cell_type": "markdown",
   "metadata": {
    "slideshow": {
     "slide_type": "subslide"
    }
   },
   "source": [
    "![anaconda](files/img/anaconda.png)"
   ]
  },
  {
   "cell_type": "markdown",
   "metadata": {
    "slideshow": {
     "slide_type": "subslide"
    }
   },
   "source": [
    "Con pip\n",
    "- `pip3 install --upgrade pip` -> para actualizar la última versión de pip\n",
    "- `pip3 install jupyter` -> para instalar Jupyter Notebook"
   ]
  },
  {
   "cell_type": "markdown",
   "metadata": {
    "slideshow": {
     "slide_type": "slide"
    }
   },
   "source": [
    "## ¿Cómo corro Jupyter Notebook?"
   ]
  },
  {
   "cell_type": "markdown",
   "metadata": {
    "slideshow": {
     "slide_type": "subslide"
    }
   },
   "source": [
    "- en un **servidor remoto** y acceder vía internet"
   ]
  },
  {
   "cell_type": "markdown",
   "metadata": {
    "slideshow": {
     "slide_type": "subslide"
    }
   },
   "source": [
    "- en el **escritorio local** (sin necesidad de acceso a internet). De esta forma, la computadora oficia de servidor y los notebooks se ejecutan en el buscador, usando como URL el localhost y un puerto, que por defecto es el 8888 (si está usado, usa el siguiente) `http://localhost:8888` ó `http://127.0.0.1:8888`"
   ]
  },
  {
   "cell_type": "markdown",
   "metadata": {
    "slideshow": {
     "slide_type": "subslide"
    }
   },
   "source": [
    "### Para iniciar un servidor local"
   ]
  },
  {
   "cell_type": "markdown",
   "metadata": {
    "slideshow": {
     "slide_type": "fragment"
    }
   },
   "source": [
    "1. `ctrl+alt+t` -> abre la terminal\n",
    "1. `$ cd un_directorio` -> nos ubica en el directorio donde tenemos los notebooks\n",
    "1. `$ jupyter notebook` -> inicia el servidor en ese directorio y abre una pestaña en el buscador en donde el dashboard muestra el contenido de dicho directorio.\n",
    "\n",
    "![console](img/console.png)"
   ]
  },
  {
   "cell_type": "markdown",
   "metadata": {
    "slideshow": {
     "slide_type": "subslide"
    }
   },
   "source": [
    "### Para crear un notebook nuevo"
   ]
  },
  {
   "cell_type": "markdown",
   "metadata": {
    "slideshow": {
     "slide_type": "fragment"
    }
   },
   "source": [
    "- desde el dashboard: hacer click en el botón `New` (o abrir alguno existente clickeando en el nombre)\n",
    "- desde un notebook activo, las opciones `File` ‣ `New Notebook` abre el dashboard en una nueva pestaña.\n",
    "\n",
    "Se ubica en el mismo directorio y se muestra en el dashboard\n",
    "\n",
    "\n",
    "![create_new_notebook](img/create_new_notebook.png)"
   ]
  },
  {
   "cell_type": "markdown",
   "metadata": {
    "slideshow": {
     "slide_type": "subslide"
    }
   },
   "source": [
    "Al **abrir un notebook**, tenemos una sesión interactiva conectada a un kernel que va a permanecer activo aunque se cierre la ventana del buscador. Este kernel se va a reutilizar si volvemos a abrir el mismo notebook desde el dashboard. "
   ]
  },
  {
   "cell_type": "markdown",
   "metadata": {
    "slideshow": {
     "slide_type": "slide"
    }
   },
   "source": [
    "## Jupyter Notebook Command line"
   ]
  },
  {
   "cell_type": "markdown",
   "metadata": {
    "slideshow": {
     "slide_type": "subslide"
    }
   },
   "source": [
    "Podemos iniciar un notebook específico desde consola\n",
    "\n",
    "`jupyter notebook notebook.ipynb`\n",
    "\n",
    "O pedirle que inicie el servidor en un puerto específico\n",
    "\n",
    "`jupyter notebook --port 9999`\n",
    "\n",
    "También decirle que inicie el servidor sin abrir el browser para, por ejemplo, usar un editor distinto\n",
    "\n",
    "`jupyter notebook--no-browser`\n",
    "\n",
    "Y ver más opciones\n",
    "\n",
    "`jupyter notebook --help`"
   ]
  },
  {
   "cell_type": "markdown",
   "metadata": {
    "slideshow": {
     "slide_type": "slide"
    }
   },
   "source": [
    "## Interfaz"
   ]
  },
  {
   "cell_type": "markdown",
   "metadata": {
    "slideshow": {
     "slide_type": "subslide"
    }
   },
   "source": [
    "### En el dashboard podemos ver"
   ]
  },
  {
   "cell_type": "markdown",
   "metadata": {
    "slideshow": {
     "slide_type": "fragment"
    }
   },
   "source": [
    "- Árbol de archivos\n",
    "- Notebooks activos\n",
    "- Opciones para subir y crear\n",
    "\n",
    "![dashboard](img/dashboard.png)"
   ]
  },
  {
   "cell_type": "markdown",
   "metadata": {
    "slideshow": {
     "slide_type": "subslide"
    }
   },
   "source": [
    "Cuando seleccionamos uno o más notebooks, aparece un menú que nos permite tomar acciones \n",
    "\n",
    "![dashboard_menu](img/dashboard_menu.png)"
   ]
  },
  {
   "cell_type": "markdown",
   "metadata": {
    "slideshow": {
     "slide_type": "subslide"
    }
   },
   "source": [
    "### En un notebook podemos ver varios elementos"
   ]
  },
  {
   "cell_type": "markdown",
   "metadata": {
    "slideshow": {
     "slide_type": "fragment"
    }
   },
   "source": [
    "- **Nombre**: el nombre del notebook. Por defecto es Untitled, pero puede cambiarse, y su extensión será por defecto `.ipynb`\n",
    "- **Menú**: tiene opciones relacionadas con el funcionamiento de los notebooks\n",
    "- **Barra de herramientas**: muestra las opciones más usadas\n",
    "- **Celda vacía**: se le puede dar distintos formatos\n",
    "\n",
    "![empty_notebook](img/empty_notebook.png)"
   ]
  },
  {
   "cell_type": "markdown",
   "metadata": {
    "slideshow": {
     "slide_type": "slide"
    }
   },
   "source": [
    "## Modos y atajos"
   ]
  },
  {
   "cell_type": "markdown",
   "metadata": {
    "slideshow": {
     "slide_type": "subslide"
    }
   },
   "source": [
    "#### Command mode (_ESC_)\n",
    "- permite navegar entre celdas y a lo largo de todo el notebook usando shortcuts\n",
    "\n",
    "#### Edit mode (_Enter_)\n",
    "- permite editar el contenido de una celda\n",
    "\n",
    "#### Run cell mode \n",
    "- **(_Shift+Enter_)**: ejecuta la celda seleccionada y salta a la celda siguiente\n",
    "- **(_Ctrl+Enter_)**: ejecuta la celda seleccionada y se queda allí"
   ]
  },
  {
   "cell_type": "markdown",
   "metadata": {
    "slideshow": {
     "slide_type": "subslide"
    }
   },
   "source": [
    "#### Definir tipos de celda (en command mode)\n",
    "- Code (_Y_): permite escribir y editar código, soporta syntax highlight y tab completion\n",
    "- Markdown (_M_): permite escribir lenguaje markdown para documentación, explicación, para dar estructura, etc\n",
    "- Raw (_R_): no son evaluadas por el notebook y se usan para escribir resultados\n",
    "- Headings (_1-5_): permite escribir headers en markdown"
   ]
  },
  {
   "cell_type": "markdown",
   "metadata": {
    "slideshow": {
     "slide_type": "subslide"
    }
   },
   "source": [
    "#### Funciones básicas\n",
    "- Move across cells (_Down&Up arrows_): moverse a través de las celdas y seleccionar también\n",
    "- Copy (_C_): copiar la celda seleccionada\n",
    "- Cut (_X_): cortar la celda seleccionada\n",
    "- Paste above (_Shift+V_): pegar la celda arriba\n",
    "- Paste below (_V_): pegar la celda abajo\n",
    "- Delete (_DD_): eliminar la celda seleccionada\n",
    "- Insert cell above (_A_): insertar celda arriba\n",
    "- Insert cell below (_B_): insertar celda abajo\n",
    "- Save (_Ctrl+S_): guardar el notebook\n",
    "- Show keyboard shortcuts (_H_): muestra una ventana con atajos del teclado"
   ]
  },
  {
   "cell_type": "markdown",
   "metadata": {
    "slideshow": {
     "slide_type": "subslide"
    }
   },
   "source": [
    "#### Manejar el kernel\n",
    "- Restart kernel (_00_): reiniciar el kernel cuando muestra algún error de conexión o queremos refrescar\n",
    "- Interrupt kernel (_ii_): interrumpir el kernel cuando algún cálculo toma mucho tiempo"
   ]
  },
  {
   "cell_type": "markdown",
   "metadata": {
    "slideshow": {
     "slide_type": "slide"
    }
   },
   "source": [
    "## Compartirlo"
   ]
  },
  {
   "cell_type": "markdown",
   "metadata": {
    "slideshow": {
     "slide_type": "subslide"
    }
   },
   "source": [
    "Podemos compartir un notebook de una URL pública a través de [nbviewer](https://nbviewer.jupyter.org/), mostrándolo como una página estática."
   ]
  },
  {
   "cell_type": "markdown",
   "metadata": {
    "slideshow": {
     "slide_type": "slide"
    }
   },
   "source": [
    "# ¡Muchas gracias!\n",
    "\n",
    "### @berelarsenp en [github](https://github.com/Berelarsenp), [Medium](https://medium.com/@berelarsenp) y [twitter](https://twitter.com/berelarsenp)"
   ]
  }
 ],
 "metadata": {
  "celltoolbar": "Slideshow",
  "kernelspec": {
   "display_name": "Python 3",
   "language": "python",
   "name": "python3"
  },
  "language_info": {
   "codemirror_mode": {
    "name": "ipython",
    "version": 3
   },
   "file_extension": ".py",
   "mimetype": "text/x-python",
   "name": "python",
   "nbconvert_exporter": "python",
   "pygments_lexer": "ipython3",
   "version": "3.6.7"
  }
 },
 "nbformat": 4,
 "nbformat_minor": 2
}
